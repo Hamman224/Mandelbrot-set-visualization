{
  "cells": [
    {
      "cell_type": "markdown",
      "metadata": {
        "id": "view-in-github",
        "colab_type": "text"
      },
      "source": [
        "<a href=\"https://colab.research.google.com/github/Hamman224/Mandelbrot-set-visualization/blob/main/assign1_holt_b00951059.ipynb\" target=\"_parent\"><img src=\"https://colab.research.google.com/assets/colab-badge.svg\" alt=\"Open In Colab\"/></a>"
      ]
    },
    {
      "cell_type": "markdown",
      "metadata": {
        "id": "FaTfWZnUb1bL"
      },
      "source": [
        "Hamilton\n",
        "Holt\n",
        "B00951059\n",
        "hholt2@binghamton.edu"
      ]
    },
    {
      "cell_type": "markdown",
      "metadata": {
        "id": "Wk9_2_dZb1be"
      },
      "source": []
    }
  ],
  "metadata": {
    "language_info": {
      "name": "python"
    },
    "colab": {
      "provenance": [],
      "include_colab_link": true
    }
  },
  "nbformat": 4,
  "nbformat_minor": 0
}